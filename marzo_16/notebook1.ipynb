{
 "cells": [
  {
   "cell_type": "code",
   "execution_count": 9,
   "metadata": {},
   "outputs": [],
   "source": [
    "# Imports\n",
    "import numpy as np\n",
    "from scipy import stats"
   ]
  },
  {
   "attachments": {},
   "cell_type": "markdown",
   "metadata": {},
   "source": [
    "# Ejemplos clase\n",
    "\n",
    "* **Fecha**: 16/03/2023"
   ]
  },
  {
   "attachments": {},
   "cell_type": "markdown",
   "metadata": {},
   "source": [
    "Los datos en siguiente tabla son 55 tiempos de sonrisa, en segundos, de un bebé de ocho semanas:\n",
    "\n",
    "10.4\t\n",
    "19.6\t\n",
    "18.8\t\n",
    "13.9\t\n",
    "17.8\t\n",
    "16.8\t\n",
    "21.6\t\n",
    "17.9\t\n",
    "12.5\t\t\n",
    "11.1\t\n",
    "4.9\n",
    "12.8\t\n",
    "14.8\t\t\n",
    "22.8\t\t\n",
    "20.0\t\n",
    "15.9\t\t\n",
    "16.3\t\t\n",
    "13.4\t\t\n",
    "17.1\t\t\n",
    "14.5\t\t\n",
    "19.0\t\n",
    "22.8\n",
    "1.3\n",
    "0.7\t\n",
    "8.9\t\t\n",
    "11.9\n",
    "10.9\n",
    "7.3\t\n",
    "5.9\t\n",
    "3.7\t\t\n",
    "17.9\t\n",
    "19.2\t\n",
    "9.8\n",
    "5.8\t\n",
    "6.9\t\t\n",
    "2.6\t\t\n",
    "5.8\t\t\n",
    "21.7\t\t\n",
    "11.8\t\n",
    "3.4\t\t\n",
    "2.1\t\n",
    "4.5\t\n",
    "6.3\t\n",
    "10.7\n",
    "8.9\t\n",
    "9.4\t\t\n",
    "9.4\t\t\n",
    "7.6\t\t\n",
    "10.0\t\t\n",
    "3.3\t\t\n",
    "6.7\t\t\n",
    "7.8\t\t\n",
    "11.6\n"
   ]
  },
  {
   "cell_type": "code",
   "execution_count": 10,
   "metadata": {},
   "outputs": [
    {
     "name": "stdout",
     "output_type": "stream",
     "text": [
      "[10.4, 19.6, 18.8, 13.9, 17.8, 16.8, 21.6, 17.9, 12.5, 11.1, 4.9, 12.8, 14.8, 22.8, 20.0, 15.9, 16.3, 13.4, 17.1, 14.5, 19.0, 22.8, 1.3, 0.7, 8.9, 11.9, 10.9, 7.3, 5.9, 3.7, 17.9, 19.2, 9.8, 5.8, 6.9, 2.6, 5.8, 21.7, 11.8, 3.4, 2.1, 4.5, 6.3, 10.7, 8.9, 9.4, 9.4, 7.6, 10.0, 3.3, 6.7, 7.8, 11.6, 13.8, 18.6]\n",
      "Media:  11.65272727272727\n",
      "Desviación estandar:  6.080748447642089\n"
     ]
    }
   ],
   "source": [
    "tiempo_risa = [10.4, 19.6, 18.8, 13.9, 17.8, 16.8, 21.6, 17.9, 12.5, 11.1, 4.9, \n",
    "               12.8, 14.8, 22.8, 20.0, 15.9, 16.3, 13.4, 17.1, 14.5, 19.0, 22.8, \n",
    "               1.3, 0.7, 8.9, 11.9, 10.9, 7.3, 5.9, 3.7, 17.9, 19.2, 9.8, \n",
    "               5.8, 6.9, 2.6, 5.8, 21.7, 11.8, 3.4, 2.1, 4.5, 6.3, 10.7, \n",
    "               8.9, 9.4, 9.4, 7.6, 10.0, 3.3, 6.7, 7.8, 11.6, 13.8, 18.6]\n",
    "# Media\n",
    "media = sum(tiempo_risa)/len(tiempo_risa)\n",
    "print(tiempo_risa)\n",
    "print(\"Media: \", media)\n",
    "desv_std = stats.tstd(tiempo_risa)\n",
    "print(\"Desviación estandar: \", desv_std)"
   ]
  },
  {
   "cell_type": "code",
   "execution_count": 13,
   "metadata": {},
   "outputs": [],
   "source": [
    "# X ~ U(a = 0, b = 23)\n",
    "b = 23 \n",
    "a = 0 \n",
    "X = stats.uniform(loc=a, scale=b)"
   ]
  },
  {
   "cell_type": "code",
   "execution_count": 14,
   "metadata": {},
   "outputs": [
    {
     "name": "stdout",
     "output_type": "stream",
     "text": [
      "P(2<=X<=18): 0.6956521739130435\n"
     ]
    }
   ],
   "source": [
    "# P(2<=X<=18)\n",
    "P1 = X.cdf(18) - X.cdf(2) # P(2<=X<=18) = F(18) - F(2)\n",
    "print(\"P(2<=X<=18): \" + str(P1))"
   ]
  },
  {
   "cell_type": "code",
   "execution_count": 15,
   "metadata": {},
   "outputs": [
    {
     "name": "stdout",
     "output_type": "stream",
     "text": [
      "P(X>12|X>8): 0.7333333333333334\n"
     ]
    }
   ],
   "source": [
    "# P(X>12|X>8) = P(X>12)/P(X>8) = (1-P(X<12))/(1-P(X<8)) = (1-F(12))/(1-F(8))   \n",
    "P2 = (1 - X.cdf(12))/(1 - X.cdf(8)) # (1-F(12))/(1-F(8))   \n",
    "print(\"P(X>12|X>8): \" + str(P2))"
   ]
  },
  {
   "attachments": {},
   "cell_type": "markdown",
   "metadata": {},
   "source": [
    "## Ejemplo 2\n",
    "\n",
    "La dirección de una imperfección con respecto a una línea de referencia sobre un objeto circular como un neumático, un rotor de freno o un volante está, en general, sujeta a incertidumbre.\n",
    "\n",
    "Considérese la línea de referencia que conecta el vástago de la válvula de un neumático con el punto central y sea 𝑋 el ángulo medido en el sentido de las manecillas del reloj con respecto a la ubicación de una imperfección."
   ]
  },
  {
   "cell_type": "code",
   "execution_count": null,
   "metadata": {},
   "outputs": [],
   "source": []
  }
 ],
 "metadata": {
  "kernelspec": {
   "display_name": "base",
   "language": "python",
   "name": "python3"
  },
  "language_info": {
   "codemirror_mode": {
    "name": "ipython",
    "version": 3
   },
   "file_extension": ".py",
   "mimetype": "text/x-python",
   "name": "python",
   "nbconvert_exporter": "python",
   "pygments_lexer": "ipython3",
   "version": "3.8.16"
  },
  "orig_nbformat": 4
 },
 "nbformat": 4,
 "nbformat_minor": 2
}
